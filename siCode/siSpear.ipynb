{
 "cells": [
  {
   "cell_type": "code",
   "execution_count": 1,
   "metadata": {},
   "outputs": [],
   "source": [
    "import pandas as pd\n",
    "import numpy as np\n",
    "import matplotlib.pyplot as plt\n",
    "import re"
   ]
  },
  {
   "cell_type": "markdown",
   "metadata": {},
   "source": [
    "## Function Definition"
   ]
  },
  {
   "cell_type": "code",
   "execution_count": 2,
   "metadata": {},
   "outputs": [],
   "source": [
    "# 面积修正\n",
    "def predict_area_correct(means, areas):\n",
    "    means_correct = means*areas\n",
    "    # 归一化\n",
    "    means_squeeze = (means_correct-min(means_correct))/(max(means_correct)-min(means_correct))\n",
    "    \n",
    "    return means_squeeze\n",
    "\n",
    "def light_area_correct(lights, areas):\n",
    "    lights_correct = lights*areas\n",
    "    \n",
    "    return lights_correct"
   ]
  },
  {
   "cell_type": "code",
   "execution_count": 3,
   "metadata": {},
   "outputs": [],
   "source": [
    "# 面积覆盖率\n",
    "def area_rate(nums, areas):\n",
    "    return nums*1.0/areas"
   ]
  },
  {
   "cell_type": "code",
   "execution_count": 7,
   "metadata": {},
   "outputs": [],
   "source": [
    "def generate_corr(predict_df, center2PAC, light_df, index_df):\n",
    "    # 合并\n",
    "    district_df = pd.merge(center2PAC, predict_df, how = 'inner')\n",
    "    district_df = pd.merge(district_df, light_df, how = 'left')\n",
    "    \n",
    "    # 计算县级平均得分\n",
    "    scores_df = district_df.loc[: ,['PAC', 'predict', 'light_sum']].groupby('PAC').mean()\n",
    "    scores_df['num'] = district_df.groupby('PAC').size()\n",
    "    scores_df['PAC'] = scores_df.index\n",
    "    scores_df.index = [i for i in range(scores_df.shape[0])]\n",
    "    \n",
    "    # 合并指标\n",
    "    scores_df = pd.merge(scores_df, index_df, how = 'inner')\n",
    "    \n",
    "    # 面积修正\n",
    "    scores_df['alter_predict'] = predict_area_correct(scores_df['predict'], scores_df['area'])\n",
    "    scores_df['alter_lights'] = light_area_correct(scores_df['light_sum'], scores_df['area'])\n",
    "    \n",
    "    # 计算corr\n",
    "    corr_df = scores_df.drop(['num', 'area'], axis = 1)\n",
    "    corr_df['PAC'] = [str(pac) for pac in corr_df['PAC']]\n",
    "    \n",
    "    return scores_df, corr_df"
   ]
  },
  {
   "cell_type": "markdown",
   "metadata": {},
   "source": [
    "## Readin Data"
   ]
  },
  {
   "cell_type": "code",
   "execution_count": 5,
   "metadata": {},
   "outputs": [],
   "source": [
    "# 坐标-PAC-index-light\n",
    "center2PAC = pd.read_csv('Data/center2PAC2017.csv').dropna()\n",
    "PAC_index17 = pd.read_csv('Data/PAC_index17.csv')\n",
    "light17 = pd.read_csv('Data/light2017.csv')"
   ]
  },
  {
   "cell_type": "code",
   "execution_count": 6,
   "metadata": {},
   "outputs": [],
   "source": [
    "# 删减不必要列\n",
    "center2PAC = center2PAC.loc[:, ['name', 'PAC']]\n",
    "center2PAC['name'] = [re.sub(r'-2017\\.png[\\n]', '', name) for name in center2PAC.name]\n",
    "center2PAC.columns = ['y-x', 'PAC']\n",
    "PAC_index17 = PAC_index17.drop('Year', axis = 1)"
   ]
  },
  {
   "cell_type": "markdown",
   "metadata": {},
   "source": [
    "## National"
   ]
  },
  {
   "cell_type": "code",
   "execution_count": null,
   "metadata": {},
   "outputs": [],
   "source": [
    "national_predict = pd.read_csv('Data/siRes/national_light_predict.csv')\n",
    "national_predict.shape"
   ]
  },
  {
   "cell_type": "code",
   "execution_count": null,
   "metadata": {},
   "outputs": [],
   "source": [
    "national_scores, national_corr = generate_corr(national_predict, center2PAC, light17, PAC_index17)\n",
    "national_corr.shape"
   ]
  },
  {
   "cell_type": "code",
   "execution_count": null,
   "metadata": {},
   "outputs": [],
   "source": [
    "national_corr.head()"
   ]
  },
  {
   "cell_type": "code",
   "execution_count": null,
   "metadata": {},
   "outputs": [],
   "source": [
    "national_corr.corr('spearman')"
   ]
  },
  {
   "cell_type": "code",
   "execution_count": null,
   "metadata": {},
   "outputs": [],
   "source": [
    "national_corr.to_csv('Data/siRes/spear/national_corr_df.csv', index = False, header = True)\n",
    "national_corr.corr('spearman').to_csv('Data/siRes/spear/national_spearman.csv', index = False, header = True)"
   ]
  },
  {
   "cell_type": "code",
   "execution_count": null,
   "metadata": {},
   "outputs": [],
   "source": [
    "national_area_rates = area_rate(national_scores['num'], national_scores['area'])\n",
    "plt.hist(national_area_rates, bins = 6)\n",
    "plt.show()"
   ]
  }
 ],
 "metadata": {
  "kernelspec": {
   "display_name": "python3",
   "language": "python",
   "name": "python3"
  },
  "language_info": {
   "codemirror_mode": {
    "name": "ipython",
    "version": 3
   },
   "file_extension": ".py",
   "mimetype": "text/x-python",
   "name": "python",
   "nbconvert_exporter": "python",
   "pygments_lexer": "ipython3",
   "version": "3.7.7"
  }
 },
 "nbformat": 4,
 "nbformat_minor": 2
}
